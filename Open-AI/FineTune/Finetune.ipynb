{
 "cells": [
  {
   "cell_type": "code",
   "execution_count": 1,
   "id": "34580e18-e4e9-47d4-aca8-a4aabefba3c9",
   "metadata": {},
   "outputs": [
    {
     "name": "stdout",
     "output_type": "stream",
     "text": [
      "Requirement already satisfied: simplejson in /Users/charithesh/Workspace/Spring 2024/NLP/venv/lib/python3.9/site-packages (3.19.2)\n",
      "\u001b[33mWARNING: You are using pip version 21.2.4; however, version 24.0 is available.\n",
      "You should consider upgrading via the '/Users/charithesh/Workspace/Spring 2024/NLP/venv/bin/python3 -m pip install --upgrade pip' command.\u001b[0m\n",
      "Requirement already satisfied: langchain-openai in /Users/charithesh/Workspace/Spring 2024/NLP/venv/lib/python3.9/site-packages (0.1.1)\n",
      "Requirement already satisfied: langchain-core<0.2.0,>=0.1.33 in /Users/charithesh/Workspace/Spring 2024/NLP/venv/lib/python3.9/site-packages (from langchain-openai) (0.1.33)\n",
      "Requirement already satisfied: tiktoken<1,>=0.5.2 in /Users/charithesh/Workspace/Spring 2024/NLP/venv/lib/python3.9/site-packages (from langchain-openai) (0.6.0)\n",
      "Requirement already satisfied: openai<2.0.0,>=1.10.0 in /Users/charithesh/Workspace/Spring 2024/NLP/venv/lib/python3.9/site-packages (from langchain-openai) (1.14.2)\n",
      "Requirement already satisfied: requests<3,>=2 in /Users/charithesh/Workspace/Spring 2024/NLP/venv/lib/python3.9/site-packages (from langchain-core<0.2.0,>=0.1.33->langchain-openai) (2.31.0)\n",
      "Requirement already satisfied: pydantic<3,>=1 in /Users/charithesh/Workspace/Spring 2024/NLP/venv/lib/python3.9/site-packages (from langchain-core<0.2.0,>=0.1.33->langchain-openai) (2.6.4)\n",
      "Requirement already satisfied: anyio<5,>=3 in /Users/charithesh/Workspace/Spring 2024/NLP/venv/lib/python3.9/site-packages (from langchain-core<0.2.0,>=0.1.33->langchain-openai) (4.2.0)\n",
      "Requirement already satisfied: PyYAML>=5.3 in /Users/charithesh/Workspace/Spring 2024/NLP/venv/lib/python3.9/site-packages (from langchain-core<0.2.0,>=0.1.33->langchain-openai) (6.0.1)\n",
      "Requirement already satisfied: tenacity<9.0.0,>=8.1.0 in /Users/charithesh/Workspace/Spring 2024/NLP/venv/lib/python3.9/site-packages (from langchain-core<0.2.0,>=0.1.33->langchain-openai) (8.2.3)\n",
      "Requirement already satisfied: jsonpatch<2.0,>=1.33 in /Users/charithesh/Workspace/Spring 2024/NLP/venv/lib/python3.9/site-packages (from langchain-core<0.2.0,>=0.1.33->langchain-openai) (1.33)\n",
      "Requirement already satisfied: langsmith<0.2.0,>=0.1.0 in /Users/charithesh/Workspace/Spring 2024/NLP/venv/lib/python3.9/site-packages (from langchain-core<0.2.0,>=0.1.33->langchain-openai) (0.1.31)\n",
      "Requirement already satisfied: packaging<24.0,>=23.2 in /Users/charithesh/Workspace/Spring 2024/NLP/venv/lib/python3.9/site-packages (from langchain-core<0.2.0,>=0.1.33->langchain-openai) (23.2)\n",
      "Requirement already satisfied: sniffio>=1.1 in /Users/charithesh/Workspace/Spring 2024/NLP/venv/lib/python3.9/site-packages (from anyio<5,>=3->langchain-core<0.2.0,>=0.1.33->langchain-openai) (1.3.0)\n",
      "Requirement already satisfied: idna>=2.8 in /Users/charithesh/Workspace/Spring 2024/NLP/venv/lib/python3.9/site-packages (from anyio<5,>=3->langchain-core<0.2.0,>=0.1.33->langchain-openai) (3.6)\n",
      "Requirement already satisfied: typing-extensions>=4.1 in /Users/charithesh/Workspace/Spring 2024/NLP/venv/lib/python3.9/site-packages (from anyio<5,>=3->langchain-core<0.2.0,>=0.1.33->langchain-openai) (4.9.0)\n",
      "Requirement already satisfied: exceptiongroup>=1.0.2 in /Users/charithesh/Workspace/Spring 2024/NLP/venv/lib/python3.9/site-packages (from anyio<5,>=3->langchain-core<0.2.0,>=0.1.33->langchain-openai) (1.2.0)\n",
      "Requirement already satisfied: jsonpointer>=1.9 in /Users/charithesh/Workspace/Spring 2024/NLP/venv/lib/python3.9/site-packages (from jsonpatch<2.0,>=1.33->langchain-core<0.2.0,>=0.1.33->langchain-openai) (2.4)\n",
      "Requirement already satisfied: orjson<4.0.0,>=3.9.14 in /Users/charithesh/Workspace/Spring 2024/NLP/venv/lib/python3.9/site-packages (from langsmith<0.2.0,>=0.1.0->langchain-core<0.2.0,>=0.1.33->langchain-openai) (3.9.15)\n",
      "Requirement already satisfied: httpx<1,>=0.23.0 in /Users/charithesh/Workspace/Spring 2024/NLP/venv/lib/python3.9/site-packages (from openai<2.0.0,>=1.10.0->langchain-openai) (0.27.0)\n",
      "Requirement already satisfied: distro<2,>=1.7.0 in /Users/charithesh/Workspace/Spring 2024/NLP/venv/lib/python3.9/site-packages (from openai<2.0.0,>=1.10.0->langchain-openai) (1.9.0)\n",
      "Requirement already satisfied: tqdm>4 in /Users/charithesh/Workspace/Spring 2024/NLP/venv/lib/python3.9/site-packages (from openai<2.0.0,>=1.10.0->langchain-openai) (4.66.2)\n",
      "Requirement already satisfied: httpcore==1.* in /Users/charithesh/Workspace/Spring 2024/NLP/venv/lib/python3.9/site-packages (from httpx<1,>=0.23.0->openai<2.0.0,>=1.10.0->langchain-openai) (1.0.4)\n",
      "Requirement already satisfied: certifi in /Users/charithesh/Workspace/Spring 2024/NLP/venv/lib/python3.9/site-packages (from httpx<1,>=0.23.0->openai<2.0.0,>=1.10.0->langchain-openai) (2023.11.17)\n",
      "Requirement already satisfied: h11<0.15,>=0.13 in /Users/charithesh/Workspace/Spring 2024/NLP/venv/lib/python3.9/site-packages (from httpcore==1.*->httpx<1,>=0.23.0->openai<2.0.0,>=1.10.0->langchain-openai) (0.14.0)\n",
      "Requirement already satisfied: pydantic-core==2.16.3 in /Users/charithesh/Workspace/Spring 2024/NLP/venv/lib/python3.9/site-packages (from pydantic<3,>=1->langchain-core<0.2.0,>=0.1.33->langchain-openai) (2.16.3)\n",
      "Requirement already satisfied: annotated-types>=0.4.0 in /Users/charithesh/Workspace/Spring 2024/NLP/venv/lib/python3.9/site-packages (from pydantic<3,>=1->langchain-core<0.2.0,>=0.1.33->langchain-openai) (0.6.0)\n",
      "Requirement already satisfied: charset-normalizer<4,>=2 in /Users/charithesh/Workspace/Spring 2024/NLP/venv/lib/python3.9/site-packages (from requests<3,>=2->langchain-core<0.2.0,>=0.1.33->langchain-openai) (3.3.2)\n",
      "Requirement already satisfied: urllib3<3,>=1.21.1 in /Users/charithesh/Workspace/Spring 2024/NLP/venv/lib/python3.9/site-packages (from requests<3,>=2->langchain-core<0.2.0,>=0.1.33->langchain-openai) (2.1.0)\n",
      "Requirement already satisfied: regex>=2022.1.18 in /Users/charithesh/Workspace/Spring 2024/NLP/venv/lib/python3.9/site-packages (from tiktoken<1,>=0.5.2->langchain-openai) (2023.12.25)\n",
      "\u001b[33mWARNING: You are using pip version 21.2.4; however, version 24.0 is available.\n",
      "You should consider upgrading via the '/Users/charithesh/Workspace/Spring 2024/NLP/venv/bin/python3 -m pip install --upgrade pip' command.\u001b[0m\n",
      "Requirement already satisfied: chromadb in /Users/charithesh/Workspace/Spring 2024/NLP/venv/lib/python3.9/site-packages (0.4.24)\n",
      "Requirement already satisfied: pulsar-client>=3.1.0 in /Users/charithesh/Workspace/Spring 2024/NLP/venv/lib/python3.9/site-packages (from chromadb) (3.4.0)\n",
      "Requirement already satisfied: opentelemetry-instrumentation-fastapi>=0.41b0 in /Users/charithesh/Workspace/Spring 2024/NLP/venv/lib/python3.9/site-packages (from chromadb) (0.44b0)\n",
      "Requirement already satisfied: importlib-resources in /Users/charithesh/Workspace/Spring 2024/NLP/venv/lib/python3.9/site-packages (from chromadb) (6.4.0)\n",
      "Requirement already satisfied: bcrypt>=4.0.1 in /Users/charithesh/Workspace/Spring 2024/NLP/venv/lib/python3.9/site-packages (from chromadb) (4.1.2)\n",
      "Requirement already satisfied: kubernetes>=28.1.0 in /Users/charithesh/Workspace/Spring 2024/NLP/venv/lib/python3.9/site-packages (from chromadb) (29.0.0)\n",
      "Requirement already satisfied: chroma-hnswlib==0.7.3 in /Users/charithesh/Workspace/Spring 2024/NLP/venv/lib/python3.9/site-packages (from chromadb) (0.7.3)\n",
      "Requirement already satisfied: tenacity>=8.2.3 in /Users/charithesh/Workspace/Spring 2024/NLP/venv/lib/python3.9/site-packages (from chromadb) (8.2.3)\n",
      "Requirement already satisfied: typing-extensions>=4.5.0 in /Users/charithesh/Workspace/Spring 2024/NLP/venv/lib/python3.9/site-packages (from chromadb) (4.9.0)\n",
      "Requirement already satisfied: tqdm>=4.65.0 in /Users/charithesh/Workspace/Spring 2024/NLP/venv/lib/python3.9/site-packages (from chromadb) (4.66.2)\n",
      "Requirement already satisfied: posthog>=2.4.0 in /Users/charithesh/Workspace/Spring 2024/NLP/venv/lib/python3.9/site-packages (from chromadb) (3.5.0)\n",
      "Requirement already satisfied: opentelemetry-exporter-otlp-proto-grpc>=1.2.0 in /Users/charithesh/Workspace/Spring 2024/NLP/venv/lib/python3.9/site-packages (from chromadb) (1.23.0)\n",
      "Requirement already satisfied: opentelemetry-api>=1.2.0 in /Users/charithesh/Workspace/Spring 2024/NLP/venv/lib/python3.9/site-packages (from chromadb) (1.23.0)\n",
      "Requirement already satisfied: requests>=2.28 in /Users/charithesh/Workspace/Spring 2024/NLP/venv/lib/python3.9/site-packages (from chromadb) (2.31.0)\n",
      "Requirement already satisfied: numpy>=1.22.5 in /Users/charithesh/Workspace/Spring 2024/NLP/venv/lib/python3.9/site-packages (from chromadb) (1.26.4)\n",
      "Requirement already satisfied: onnxruntime>=1.14.1 in /Users/charithesh/Workspace/Spring 2024/NLP/venv/lib/python3.9/site-packages (from chromadb) (1.17.1)\n",
      "Requirement already satisfied: opentelemetry-sdk>=1.2.0 in /Users/charithesh/Workspace/Spring 2024/NLP/venv/lib/python3.9/site-packages (from chromadb) (1.23.0)\n",
      "Requirement already satisfied: PyYAML>=6.0.0 in /Users/charithesh/Workspace/Spring 2024/NLP/venv/lib/python3.9/site-packages (from chromadb) (6.0.1)\n",
      "Requirement already satisfied: typer>=0.9.0 in /Users/charithesh/Workspace/Spring 2024/NLP/venv/lib/python3.9/site-packages (from chromadb) (0.10.0)\n",
      "Requirement already satisfied: grpcio>=1.58.0 in /Users/charithesh/Workspace/Spring 2024/NLP/venv/lib/python3.9/site-packages (from chromadb) (1.62.1)\n",
      "Requirement already satisfied: build>=1.0.3 in /Users/charithesh/Workspace/Spring 2024/NLP/venv/lib/python3.9/site-packages (from chromadb) (1.1.1)\n",
      "Requirement already satisfied: mmh3>=4.0.1 in /Users/charithesh/Workspace/Spring 2024/NLP/venv/lib/python3.9/site-packages (from chromadb) (4.1.0)\n",
      "Requirement already satisfied: orjson>=3.9.12 in /Users/charithesh/Workspace/Spring 2024/NLP/venv/lib/python3.9/site-packages (from chromadb) (3.9.15)\n",
      "Requirement already satisfied: pydantic>=1.9 in /Users/charithesh/Workspace/Spring 2024/NLP/venv/lib/python3.9/site-packages (from chromadb) (2.6.4)\n",
      "Requirement already satisfied: overrides>=7.3.1 in /Users/charithesh/Workspace/Spring 2024/NLP/venv/lib/python3.9/site-packages (from chromadb) (7.4.0)\n",
      "Requirement already satisfied: fastapi>=0.95.2 in /Users/charithesh/Workspace/Spring 2024/NLP/venv/lib/python3.9/site-packages (from chromadb) (0.110.0)\n",
      "Requirement already satisfied: uvicorn[standard]>=0.18.3 in /Users/charithesh/Workspace/Spring 2024/NLP/venv/lib/python3.9/site-packages (from chromadb) (0.29.0)\n",
      "Requirement already satisfied: pypika>=0.48.9 in /Users/charithesh/Workspace/Spring 2024/NLP/venv/lib/python3.9/site-packages (from chromadb) (0.48.9)\n",
      "Requirement already satisfied: tokenizers>=0.13.2 in /Users/charithesh/Workspace/Spring 2024/NLP/venv/lib/python3.9/site-packages (from chromadb) (0.15.2)\n",
      "Requirement already satisfied: pyproject_hooks in /Users/charithesh/Workspace/Spring 2024/NLP/venv/lib/python3.9/site-packages (from build>=1.0.3->chromadb) (1.0.0)\n",
      "Requirement already satisfied: importlib-metadata>=4.6 in /Users/charithesh/Workspace/Spring 2024/NLP/venv/lib/python3.9/site-packages (from build>=1.0.3->chromadb) (6.11.0)\n",
      "Requirement already satisfied: packaging>=19.0 in /Users/charithesh/Workspace/Spring 2024/NLP/venv/lib/python3.9/site-packages (from build>=1.0.3->chromadb) (23.2)\n",
      "Requirement already satisfied: tomli>=1.1.0 in /Users/charithesh/Workspace/Spring 2024/NLP/venv/lib/python3.9/site-packages (from build>=1.0.3->chromadb) (2.0.1)\n",
      "Requirement already satisfied: starlette<0.37.0,>=0.36.3 in /Users/charithesh/Workspace/Spring 2024/NLP/venv/lib/python3.9/site-packages (from fastapi>=0.95.2->chromadb) (0.36.3)\n",
      "Requirement already satisfied: zipp>=0.5 in /Users/charithesh/Workspace/Spring 2024/NLP/venv/lib/python3.9/site-packages (from importlib-metadata>=4.6->build>=1.0.3->chromadb) (3.17.0)\n",
      "Requirement already satisfied: six>=1.9.0 in /Users/charithesh/Workspace/Spring 2024/NLP/venv/lib/python3.9/site-packages (from kubernetes>=28.1.0->chromadb) (1.16.0)\n",
      "Requirement already satisfied: certifi>=14.05.14 in /Users/charithesh/Workspace/Spring 2024/NLP/venv/lib/python3.9/site-packages (from kubernetes>=28.1.0->chromadb) (2023.11.17)\n",
      "Requirement already satisfied: python-dateutil>=2.5.3 in /Users/charithesh/Workspace/Spring 2024/NLP/venv/lib/python3.9/site-packages (from kubernetes>=28.1.0->chromadb) (2.8.2)\n",
      "Requirement already satisfied: requests-oauthlib in /Users/charithesh/Workspace/Spring 2024/NLP/venv/lib/python3.9/site-packages (from kubernetes>=28.1.0->chromadb) (2.0.0)\n",
      "Requirement already satisfied: urllib3>=1.24.2 in /Users/charithesh/Workspace/Spring 2024/NLP/venv/lib/python3.9/site-packages (from kubernetes>=28.1.0->chromadb) (2.1.0)\n",
      "Requirement already satisfied: oauthlib>=3.2.2 in /Users/charithesh/Workspace/Spring 2024/NLP/venv/lib/python3.9/site-packages (from kubernetes>=28.1.0->chromadb) (3.2.2)\n",
      "Requirement already satisfied: google-auth>=1.0.1 in /Users/charithesh/Workspace/Spring 2024/NLP/venv/lib/python3.9/site-packages (from kubernetes>=28.1.0->chromadb) (2.29.0)\n",
      "Requirement already satisfied: websocket-client!=0.40.0,!=0.41.*,!=0.42.*,>=0.32.0 in /Users/charithesh/Workspace/Spring 2024/NLP/venv/lib/python3.9/site-packages (from kubernetes>=28.1.0->chromadb) (1.7.0)\n",
      "Requirement already satisfied: rsa<5,>=3.1.4 in /Users/charithesh/Workspace/Spring 2024/NLP/venv/lib/python3.9/site-packages (from google-auth>=1.0.1->kubernetes>=28.1.0->chromadb) (4.9)\n",
      "Requirement already satisfied: pyasn1-modules>=0.2.1 in /Users/charithesh/Workspace/Spring 2024/NLP/venv/lib/python3.9/site-packages (from google-auth>=1.0.1->kubernetes>=28.1.0->chromadb) (0.3.0)\n",
      "Requirement already satisfied: cachetools<6.0,>=2.0.0 in /Users/charithesh/Workspace/Spring 2024/NLP/venv/lib/python3.9/site-packages (from google-auth>=1.0.1->kubernetes>=28.1.0->chromadb) (5.3.3)\n",
      "Requirement already satisfied: coloredlogs in /Users/charithesh/Workspace/Spring 2024/NLP/venv/lib/python3.9/site-packages (from onnxruntime>=1.14.1->chromadb) (15.0.1)\n",
      "Requirement already satisfied: flatbuffers in /Users/charithesh/Workspace/Spring 2024/NLP/venv/lib/python3.9/site-packages (from onnxruntime>=1.14.1->chromadb) (24.3.7)\n",
      "Requirement already satisfied: protobuf in /Users/charithesh/Workspace/Spring 2024/NLP/venv/lib/python3.9/site-packages (from onnxruntime>=1.14.1->chromadb) (4.25.3)\n",
      "Requirement already satisfied: sympy in /Users/charithesh/Workspace/Spring 2024/NLP/venv/lib/python3.9/site-packages (from onnxruntime>=1.14.1->chromadb) (1.12)\n",
      "Requirement already satisfied: deprecated>=1.2.6 in /Users/charithesh/Workspace/Spring 2024/NLP/venv/lib/python3.9/site-packages (from opentelemetry-api>=1.2.0->chromadb) (1.2.14)\n",
      "Requirement already satisfied: wrapt<2,>=1.10 in /Users/charithesh/Workspace/Spring 2024/NLP/venv/lib/python3.9/site-packages (from deprecated>=1.2.6->opentelemetry-api>=1.2.0->chromadb) (1.16.0)\n",
      "Requirement already satisfied: googleapis-common-protos~=1.52 in /Users/charithesh/Workspace/Spring 2024/NLP/venv/lib/python3.9/site-packages (from opentelemetry-exporter-otlp-proto-grpc>=1.2.0->chromadb) (1.63.0)\n",
      "Requirement already satisfied: opentelemetry-proto==1.23.0 in /Users/charithesh/Workspace/Spring 2024/NLP/venv/lib/python3.9/site-packages (from opentelemetry-exporter-otlp-proto-grpc>=1.2.0->chromadb) (1.23.0)\n",
      "Requirement already satisfied: opentelemetry-exporter-otlp-proto-common==1.23.0 in /Users/charithesh/Workspace/Spring 2024/NLP/venv/lib/python3.9/site-packages (from opentelemetry-exporter-otlp-proto-grpc>=1.2.0->chromadb) (1.23.0)\n",
      "Requirement already satisfied: opentelemetry-instrumentation-asgi==0.44b0 in /Users/charithesh/Workspace/Spring 2024/NLP/venv/lib/python3.9/site-packages (from opentelemetry-instrumentation-fastapi>=0.41b0->chromadb) (0.44b0)\n",
      "Requirement already satisfied: opentelemetry-semantic-conventions==0.44b0 in /Users/charithesh/Workspace/Spring 2024/NLP/venv/lib/python3.9/site-packages (from opentelemetry-instrumentation-fastapi>=0.41b0->chromadb) (0.44b0)\n",
      "Requirement already satisfied: opentelemetry-instrumentation==0.44b0 in /Users/charithesh/Workspace/Spring 2024/NLP/venv/lib/python3.9/site-packages (from opentelemetry-instrumentation-fastapi>=0.41b0->chromadb) (0.44b0)\n",
      "Requirement already satisfied: opentelemetry-util-http==0.44b0 in /Users/charithesh/Workspace/Spring 2024/NLP/venv/lib/python3.9/site-packages (from opentelemetry-instrumentation-fastapi>=0.41b0->chromadb) (0.44b0)\n",
      "Requirement already satisfied: setuptools>=16.0 in /Users/charithesh/Workspace/Spring 2024/NLP/venv/lib/python3.9/site-packages (from opentelemetry-instrumentation==0.44b0->opentelemetry-instrumentation-fastapi>=0.41b0->chromadb) (58.0.4)\n",
      "Requirement already satisfied: asgiref~=3.0 in /Users/charithesh/Workspace/Spring 2024/NLP/venv/lib/python3.9/site-packages (from opentelemetry-instrumentation-asgi==0.44b0->opentelemetry-instrumentation-fastapi>=0.41b0->chromadb) (3.8.1)\n",
      "Requirement already satisfied: backoff>=1.10.0 in /Users/charithesh/Workspace/Spring 2024/NLP/venv/lib/python3.9/site-packages (from posthog>=2.4.0->chromadb) (2.2.1)\n",
      "Requirement already satisfied: monotonic>=1.5 in /Users/charithesh/Workspace/Spring 2024/NLP/venv/lib/python3.9/site-packages (from posthog>=2.4.0->chromadb) (1.6)\n",
      "Requirement already satisfied: pyasn1<0.6.0,>=0.4.6 in /Users/charithesh/Workspace/Spring 2024/NLP/venv/lib/python3.9/site-packages (from pyasn1-modules>=0.2.1->google-auth>=1.0.1->kubernetes>=28.1.0->chromadb) (0.5.1)\n",
      "Requirement already satisfied: pydantic-core==2.16.3 in /Users/charithesh/Workspace/Spring 2024/NLP/venv/lib/python3.9/site-packages (from pydantic>=1.9->chromadb) (2.16.3)\n",
      "Requirement already satisfied: annotated-types>=0.4.0 in /Users/charithesh/Workspace/Spring 2024/NLP/venv/lib/python3.9/site-packages (from pydantic>=1.9->chromadb) (0.6.0)\n",
      "Requirement already satisfied: idna<4,>=2.5 in /Users/charithesh/Workspace/Spring 2024/NLP/venv/lib/python3.9/site-packages (from requests>=2.28->chromadb) (3.6)\n",
      "Requirement already satisfied: charset-normalizer<4,>=2 in /Users/charithesh/Workspace/Spring 2024/NLP/venv/lib/python3.9/site-packages (from requests>=2.28->chromadb) (3.3.2)\n",
      "Requirement already satisfied: anyio<5,>=3.4.0 in /Users/charithesh/Workspace/Spring 2024/NLP/venv/lib/python3.9/site-packages (from starlette<0.37.0,>=0.36.3->fastapi>=0.95.2->chromadb) (4.2.0)\n",
      "Requirement already satisfied: exceptiongroup>=1.0.2 in /Users/charithesh/Workspace/Spring 2024/NLP/venv/lib/python3.9/site-packages (from anyio<5,>=3.4.0->starlette<0.37.0,>=0.36.3->fastapi>=0.95.2->chromadb) (1.2.0)\n",
      "Requirement already satisfied: sniffio>=1.1 in /Users/charithesh/Workspace/Spring 2024/NLP/venv/lib/python3.9/site-packages (from anyio<5,>=3.4.0->starlette<0.37.0,>=0.36.3->fastapi>=0.95.2->chromadb) (1.3.0)\n",
      "Requirement already satisfied: huggingface_hub<1.0,>=0.16.4 in /Users/charithesh/Workspace/Spring 2024/NLP/venv/lib/python3.9/site-packages (from tokenizers>=0.13.2->chromadb) (0.21.4)\n",
      "Requirement already satisfied: filelock in /Users/charithesh/Workspace/Spring 2024/NLP/venv/lib/python3.9/site-packages (from huggingface_hub<1.0,>=0.16.4->tokenizers>=0.13.2->chromadb) (3.13.1)\n",
      "Requirement already satisfied: fsspec>=2023.5.0 in /Users/charithesh/Workspace/Spring 2024/NLP/venv/lib/python3.9/site-packages (from huggingface_hub<1.0,>=0.16.4->tokenizers>=0.13.2->chromadb) (2024.3.1)\n",
      "Requirement already satisfied: click<9.0.0,>=7.1.1 in /Users/charithesh/Workspace/Spring 2024/NLP/venv/lib/python3.9/site-packages (from typer>=0.9.0->chromadb) (8.1.7)\n",
      "Requirement already satisfied: h11>=0.8 in /Users/charithesh/Workspace/Spring 2024/NLP/venv/lib/python3.9/site-packages (from uvicorn[standard]>=0.18.3->chromadb) (0.14.0)\n",
      "Requirement already satisfied: httptools>=0.5.0 in /Users/charithesh/Workspace/Spring 2024/NLP/venv/lib/python3.9/site-packages (from uvicorn[standard]>=0.18.3->chromadb) (0.6.1)\n",
      "Requirement already satisfied: uvloop!=0.15.0,!=0.15.1,>=0.14.0 in /Users/charithesh/Workspace/Spring 2024/NLP/venv/lib/python3.9/site-packages (from uvicorn[standard]>=0.18.3->chromadb) (0.19.0)\n",
      "Requirement already satisfied: watchfiles>=0.13 in /Users/charithesh/Workspace/Spring 2024/NLP/venv/lib/python3.9/site-packages (from uvicorn[standard]>=0.18.3->chromadb) (0.21.0)\n",
      "Requirement already satisfied: websockets>=10.4 in /Users/charithesh/Workspace/Spring 2024/NLP/venv/lib/python3.9/site-packages (from uvicorn[standard]>=0.18.3->chromadb) (12.0)\n",
      "Requirement already satisfied: python-dotenv>=0.13 in /Users/charithesh/Workspace/Spring 2024/NLP/venv/lib/python3.9/site-packages (from uvicorn[standard]>=0.18.3->chromadb) (1.0.1)\n",
      "Requirement already satisfied: humanfriendly>=9.1 in /Users/charithesh/Workspace/Spring 2024/NLP/venv/lib/python3.9/site-packages (from coloredlogs->onnxruntime>=1.14.1->chromadb) (10.0)\n",
      "Requirement already satisfied: mpmath>=0.19 in /Users/charithesh/Workspace/Spring 2024/NLP/venv/lib/python3.9/site-packages (from sympy->onnxruntime>=1.14.1->chromadb) (1.3.0)\n",
      "\u001b[33mWARNING: You are using pip version 21.2.4; however, version 24.0 is available.\n",
      "You should consider upgrading via the '/Users/charithesh/Workspace/Spring 2024/NLP/venv/bin/python3 -m pip install --upgrade pip' command.\u001b[0m\n",
      "Requirement already satisfied: langchain in /Users/charithesh/Workspace/Spring 2024/NLP/venv/lib/python3.9/site-packages (0.1.13)\n",
      "Requirement already satisfied: PyYAML>=5.3 in /Users/charithesh/Workspace/Spring 2024/NLP/venv/lib/python3.9/site-packages (from langchain) (6.0.1)\n",
      "Requirement already satisfied: langchain-core<0.2.0,>=0.1.33 in /Users/charithesh/Workspace/Spring 2024/NLP/venv/lib/python3.9/site-packages (from langchain) (0.1.33)\n",
      "Requirement already satisfied: jsonpatch<2.0,>=1.33 in /Users/charithesh/Workspace/Spring 2024/NLP/venv/lib/python3.9/site-packages (from langchain) (1.33)\n",
      "Requirement already satisfied: requests<3,>=2 in /Users/charithesh/Workspace/Spring 2024/NLP/venv/lib/python3.9/site-packages (from langchain) (2.31.0)\n",
      "Requirement already satisfied: tenacity<9.0.0,>=8.1.0 in /Users/charithesh/Workspace/Spring 2024/NLP/venv/lib/python3.9/site-packages (from langchain) (8.2.3)\n",
      "Requirement already satisfied: numpy<2,>=1 in /Users/charithesh/Workspace/Spring 2024/NLP/venv/lib/python3.9/site-packages (from langchain) (1.26.4)\n",
      "Requirement already satisfied: pydantic<3,>=1 in /Users/charithesh/Workspace/Spring 2024/NLP/venv/lib/python3.9/site-packages (from langchain) (2.6.4)\n",
      "Requirement already satisfied: async-timeout<5.0.0,>=4.0.0 in /Users/charithesh/Workspace/Spring 2024/NLP/venv/lib/python3.9/site-packages (from langchain) (4.0.3)\n",
      "Requirement already satisfied: langchain-community<0.1,>=0.0.29 in /Users/charithesh/Workspace/Spring 2024/NLP/venv/lib/python3.9/site-packages (from langchain) (0.0.29)\n",
      "Requirement already satisfied: langchain-text-splitters<0.1,>=0.0.1 in /Users/charithesh/Workspace/Spring 2024/NLP/venv/lib/python3.9/site-packages (from langchain) (0.0.1)\n",
      "Requirement already satisfied: langsmith<0.2.0,>=0.1.17 in /Users/charithesh/Workspace/Spring 2024/NLP/venv/lib/python3.9/site-packages (from langchain) (0.1.31)\n",
      "Requirement already satisfied: aiohttp<4.0.0,>=3.8.3 in /Users/charithesh/Workspace/Spring 2024/NLP/venv/lib/python3.9/site-packages (from langchain) (3.9.3)\n",
      "Requirement already satisfied: dataclasses-json<0.7,>=0.5.7 in /Users/charithesh/Workspace/Spring 2024/NLP/venv/lib/python3.9/site-packages (from langchain) (0.6.4)\n",
      "Requirement already satisfied: SQLAlchemy<3,>=1.4 in /Users/charithesh/Workspace/Spring 2024/NLP/venv/lib/python3.9/site-packages (from langchain) (2.0.28)\n",
      "Requirement already satisfied: multidict<7.0,>=4.5 in /Users/charithesh/Workspace/Spring 2024/NLP/venv/lib/python3.9/site-packages (from aiohttp<4.0.0,>=3.8.3->langchain) (6.0.5)\n",
      "Requirement already satisfied: frozenlist>=1.1.1 in /Users/charithesh/Workspace/Spring 2024/NLP/venv/lib/python3.9/site-packages (from aiohttp<4.0.0,>=3.8.3->langchain) (1.4.1)\n",
      "Requirement already satisfied: attrs>=17.3.0 in /Users/charithesh/Workspace/Spring 2024/NLP/venv/lib/python3.9/site-packages (from aiohttp<4.0.0,>=3.8.3->langchain) (23.2.0)\n",
      "Requirement already satisfied: yarl<2.0,>=1.0 in /Users/charithesh/Workspace/Spring 2024/NLP/venv/lib/python3.9/site-packages (from aiohttp<4.0.0,>=3.8.3->langchain) (1.9.4)\n",
      "Requirement already satisfied: aiosignal>=1.1.2 in /Users/charithesh/Workspace/Spring 2024/NLP/venv/lib/python3.9/site-packages (from aiohttp<4.0.0,>=3.8.3->langchain) (1.3.1)\n",
      "Requirement already satisfied: typing-inspect<1,>=0.4.0 in /Users/charithesh/Workspace/Spring 2024/NLP/venv/lib/python3.9/site-packages (from dataclasses-json<0.7,>=0.5.7->langchain) (0.9.0)\n",
      "Requirement already satisfied: marshmallow<4.0.0,>=3.18.0 in /Users/charithesh/Workspace/Spring 2024/NLP/venv/lib/python3.9/site-packages (from dataclasses-json<0.7,>=0.5.7->langchain) (3.21.1)\n",
      "Requirement already satisfied: jsonpointer>=1.9 in /Users/charithesh/Workspace/Spring 2024/NLP/venv/lib/python3.9/site-packages (from jsonpatch<2.0,>=1.33->langchain) (2.4)\n",
      "Requirement already satisfied: anyio<5,>=3 in /Users/charithesh/Workspace/Spring 2024/NLP/venv/lib/python3.9/site-packages (from langchain-core<0.2.0,>=0.1.33->langchain) (4.2.0)\n",
      "Requirement already satisfied: packaging<24.0,>=23.2 in /Users/charithesh/Workspace/Spring 2024/NLP/venv/lib/python3.9/site-packages (from langchain-core<0.2.0,>=0.1.33->langchain) (23.2)\n",
      "Requirement already satisfied: typing-extensions>=4.1 in /Users/charithesh/Workspace/Spring 2024/NLP/venv/lib/python3.9/site-packages (from anyio<5,>=3->langchain-core<0.2.0,>=0.1.33->langchain) (4.9.0)\n",
      "Requirement already satisfied: exceptiongroup>=1.0.2 in /Users/charithesh/Workspace/Spring 2024/NLP/venv/lib/python3.9/site-packages (from anyio<5,>=3->langchain-core<0.2.0,>=0.1.33->langchain) (1.2.0)\n",
      "Requirement already satisfied: sniffio>=1.1 in /Users/charithesh/Workspace/Spring 2024/NLP/venv/lib/python3.9/site-packages (from anyio<5,>=3->langchain-core<0.2.0,>=0.1.33->langchain) (1.3.0)\n",
      "Requirement already satisfied: idna>=2.8 in /Users/charithesh/Workspace/Spring 2024/NLP/venv/lib/python3.9/site-packages (from anyio<5,>=3->langchain-core<0.2.0,>=0.1.33->langchain) (3.6)\n",
      "Requirement already satisfied: orjson<4.0.0,>=3.9.14 in /Users/charithesh/Workspace/Spring 2024/NLP/venv/lib/python3.9/site-packages (from langsmith<0.2.0,>=0.1.17->langchain) (3.9.15)\n",
      "Requirement already satisfied: pydantic-core==2.16.3 in /Users/charithesh/Workspace/Spring 2024/NLP/venv/lib/python3.9/site-packages (from pydantic<3,>=1->langchain) (2.16.3)\n",
      "Requirement already satisfied: annotated-types>=0.4.0 in /Users/charithesh/Workspace/Spring 2024/NLP/venv/lib/python3.9/site-packages (from pydantic<3,>=1->langchain) (0.6.0)\n",
      "Requirement already satisfied: urllib3<3,>=1.21.1 in /Users/charithesh/Workspace/Spring 2024/NLP/venv/lib/python3.9/site-packages (from requests<3,>=2->langchain) (2.1.0)\n",
      "Requirement already satisfied: charset-normalizer<4,>=2 in /Users/charithesh/Workspace/Spring 2024/NLP/venv/lib/python3.9/site-packages (from requests<3,>=2->langchain) (3.3.2)\n",
      "Requirement already satisfied: certifi>=2017.4.17 in /Users/charithesh/Workspace/Spring 2024/NLP/venv/lib/python3.9/site-packages (from requests<3,>=2->langchain) (2023.11.17)\n",
      "Requirement already satisfied: mypy-extensions>=0.3.0 in /Users/charithesh/Workspace/Spring 2024/NLP/venv/lib/python3.9/site-packages (from typing-inspect<1,>=0.4.0->dataclasses-json<0.7,>=0.5.7->langchain) (1.0.0)\n",
      "\u001b[33mWARNING: You are using pip version 21.2.4; however, version 24.0 is available.\n",
      "You should consider upgrading via the '/Users/charithesh/Workspace/Spring 2024/NLP/venv/bin/python3 -m pip install --upgrade pip' command.\u001b[0m\n",
      "Requirement already satisfied: pathlib in /Users/charithesh/Workspace/Spring 2024/NLP/venv/lib/python3.9/site-packages (1.0.1)\n",
      "\u001b[33mWARNING: You are using pip version 21.2.4; however, version 24.0 is available.\n",
      "You should consider upgrading via the '/Users/charithesh/Workspace/Spring 2024/NLP/venv/bin/python3 -m pip install --upgrade pip' command.\u001b[0m\n",
      "Requirement already satisfied: pprintpp in /Users/charithesh/Workspace/Spring 2024/NLP/venv/lib/python3.9/site-packages (0.4.0)\n",
      "\u001b[33mWARNING: You are using pip version 21.2.4; however, version 24.0 is available.\n",
      "You should consider upgrading via the '/Users/charithesh/Workspace/Spring 2024/NLP/venv/bin/python3 -m pip install --upgrade pip' command.\u001b[0m\n",
      "Requirement already satisfied: jq in /Users/charithesh/Workspace/Spring 2024/NLP/venv/lib/python3.9/site-packages (1.7.0)\n",
      "\u001b[33mWARNING: You are using pip version 21.2.4; however, version 24.0 is available.\n",
      "You should consider upgrading via the '/Users/charithesh/Workspace/Spring 2024/NLP/venv/bin/python3 -m pip install --upgrade pip' command.\u001b[0m\n"
     ]
    }
   ],
   "source": [
    "!pip install simplejson\n",
    "!pip install langchain-openai\n",
    "!pip install chromadb\n",
    "!pip install langchain\n",
    "!pip install pathlib\n",
    "!pip install pprintpp\n",
    "!pip install jq\n",
    "import json\n",
    "import os"
   ]
  },
  {
   "cell_type": "code",
   "execution_count": 2,
   "id": "44e912b4-b4a9-4240-b91d-c776531b2213",
   "metadata": {},
   "outputs": [],
   "source": [
    "data_dir = \"./data/\""
   ]
  },
  {
   "cell_type": "code",
   "execution_count": 9,
   "id": "1f7ddb6f-53d8-45d9-8e99-72ca588ef1f8",
   "metadata": {},
   "outputs": [
    {
     "name": "stdout",
     "output_type": "stream",
     "text": [
      "completed\n"
     ]
    }
   ],
   "source": [
    "DEFAULT_SYSTEM_PROMPT = \"You are helpful medical assistance chatbot who assists the patients with their query.\"\n",
    "\n",
    "def create_dataset(question, answer):\n",
    "    return {\n",
    "        \"messages\": [\n",
    "            {\"role\": \"system\", \"content\": DEFAULT_SYSTEM_PROMPT},\n",
    "            {\"role\": \"user\", \"content\": question},\n",
    "            {\"role\": \"assistant\", \"content\": answer},\n",
    "        ]\n",
    "    }\n",
    "\n",
    "def get_user(question):\n",
    "    return {\"role\":\"user\",\"content\":question}\n",
    "\n",
    "def get_answer(answer):\n",
    "    return {\"role\":\"assistant\",\"content\":answer}\n",
    "\n",
    "def get_system():\n",
    "    return {\"role\":\"system\",\"content\":DEFAULT_SYSTEM_PROMPT}\n",
    "s=\"\"\n",
    "with open(\"train.jsonl\",\"w\") as file1:\n",
    "    with open(os.path.join(data_dir,\"combined.json\"),\"r\") as f:\n",
    "        temp = json.load(f)[0]\n",
    "        for case in temp:\n",
    "            if len(case[\"utterances\"])%2==0:\n",
    "                idx = 0\n",
    "                message = {\n",
    "                    \"messages\": [\n",
    "                        {\"role\": \"system\", \"content\": DEFAULT_SYSTEM_PROMPT},\n",
    "                    ]\n",
    "                }\n",
    "                while idx < len(case[\"utterances\"]):\n",
    "                    message[\"messages\"].append(get_user(case[\"utterances\"][idx].split(\":\",1)[1]))\n",
    "                    message[\"messages\"].append(get_answer(case[\"utterances\"][idx+1].split(\":\",1)[1]))\n",
    "                    idx+=2\n",
    "                ting = json.dumps(message)\n",
    "                file1.write(ting+\"\\n\")\n",
    "print(\"completed\")\n",
    "            "
   ]
  },
  {
   "cell_type": "code",
   "execution_count": 10,
   "id": "e02271ba-0047-49b5-b2e2-a92f5e8e50df",
   "metadata": {},
   "outputs": [],
   "source": [
    "os.environ[\"OPENAI_API_KEY\"] = \"YOUR_OPEN_AI_KEY\""
   ]
  },
  {
   "cell_type": "code",
   "execution_count": 12,
   "id": "ddff70b5-e1df-415d-b0ad-9bfdcd95c45c",
   "metadata": {},
   "outputs": [],
   "source": [
    "import os\n",
    "from openai import OpenAI\n",
    "\n",
    "client = OpenAI(\n",
    "  api_key=os.environ['OPENAI_API_KEY'],\n",
    ")"
   ]
  },
  {
   "cell_type": "code",
   "execution_count": 13,
   "id": "26b92a61-3c27-4e4f-8c3d-b2af2b80e654",
   "metadata": {},
   "outputs": [
    {
     "name": "stdout",
     "output_type": "stream",
     "text": [
      "Training File ID: FileObject(id='file-kpkqUNx48JYG86NW93gVPtnQ', bytes=54698, created_at=1713122034, filename='train.jsonl', object='file', purpose='fine-tune', status='processed', status_details=None)\n"
     ]
    }
   ],
   "source": [
    "training_file_id = client.files.create(\n",
    "  file=open(\"train.jsonl\", \"rb\"),\n",
    "  purpose=\"fine-tune\"\n",
    ")\n",
    "\n",
    "print(f\"Training File ID: {training_file_id}\")"
   ]
  },
  {
   "cell_type": "code",
   "execution_count": 14,
   "id": "689ea728-5afe-4fcd-a429-0793bcaa87da",
   "metadata": {},
   "outputs": [
    {
     "name": "stdout",
     "output_type": "stream",
     "text": [
      "Fine-tunning model with jobID: ftjob-v5TbBJDi1tNwFNX2bdCs7L3J.\n",
      "Training Response: FineTuningJob(id='ftjob-v5TbBJDi1tNwFNX2bdCs7L3J', created_at=1713122102, error=Error(code=None, message=None, param=None, error=None), fine_tuned_model=None, finished_at=None, hyperparameters=Hyperparameters(n_epochs=1, batch_size=3, learning_rate_multiplier=0.3), model='gpt-3.5-turbo-0125', object='fine_tuning.job', organization_id='org-WEQAhZs0V3APX6MtZLmaOjwC', result_files=[], status='validating_files', trained_tokens=None, training_file='file-kpkqUNx48JYG86NW93gVPtnQ', validation_file=None, user_provided_suffix=None, seed=2009165422, integrations=[])\n",
      "Training Status: validating_files\n"
     ]
    }
   ],
   "source": [
    "response = client.fine_tuning.jobs.create(\n",
    "  training_file=training_file_id.id, \n",
    "  model=\"gpt-3.5-turbo-0125\", \n",
    "  hyperparameters={\n",
    "    \"n_epochs\": 1,\n",
    "\t\"batch_size\": 3,\n",
    "\t\"learning_rate_multiplier\": 0.3\n",
    "  }\n",
    ")\n",
    "job_id = response.id\n",
    "status = response.status\n",
    "\n",
    "print(f'Fine-tunning model with jobID: {job_id}.')\n",
    "print(f\"Training Response: {response}\")\n",
    "print(f\"Training Status: {status}\")"
   ]
  },
  {
   "cell_type": "code",
   "execution_count": 22,
   "id": "79187624-7520-4822-b218-75e6240da49e",
   "metadata": {},
   "outputs": [
    {
     "name": "stdout",
     "output_type": "stream",
     "text": [
      "Streaming events for the fine-tuning job: ftjob-v5TbBJDi1tNwFNX2bdCs7L3J\n",
      "2024-04-14 15:15:25 Fine-tuning job started\n",
      "2024-04-14 15:15:24 Files validated, moving job to queued state\n",
      "2024-04-14 15:15:02 Validating training file: file-kpkqUNx48JYG86NW93gVPtnQ\n",
      "2024-04-14 15:15:02 Created fine-tuning job: ftjob-v5TbBJDi1tNwFNX2bdCs7L3J\n"
     ]
    }
   ],
   "source": [
    "import signal\n",
    "import datetime\n",
    "\n",
    "\n",
    "def signal_handler(sig, frame):\n",
    "    status = client.fine_tuning.jobs.retrieve(job_id).status\n",
    "    print(f\"Stream interrupted. Job is still {status}.\")\n",
    "    return\n",
    "\n",
    "\n",
    "print(f\"Streaming events for the fine-tuning job: {job_id}\")\n",
    "\n",
    "signal.signal(signal.SIGINT, signal_handler)\n",
    "\n",
    "events = client.fine_tuning.jobs.list_events(fine_tuning_job_id=job_id)\n",
    "try:\n",
    "    for event in events:\n",
    "        print(\n",
    "            f'{datetime.datetime.fromtimestamp(event.created_at)} {event.message}'\n",
    "        )\n",
    "except Exception:\n",
    "    print(\"Stream interrupted (client disconnected).\")"
   ]
  },
  {
   "cell_type": "code",
   "execution_count": 24,
   "id": "b6faf1c0-359a-4f33-aff5-08d0bfccaacd",
   "metadata": {},
   "outputs": [
    {
     "name": "stdout",
     "output_type": "stream",
     "text": [
      "Finetune job ftjob-v5TbBJDi1tNwFNX2bdCs7L3J finished with status: succeeded\n",
      "Checking other finetune jobs in the subscription.\n",
      "Found 1 finetune jobs.\n"
     ]
    }
   ],
   "source": [
    "import time\n",
    "\n",
    "status = client.fine_tuning.jobs.retrieve(job_id).status\n",
    "if status not in [\"succeeded\", \"failed\"]:\n",
    "    print(f\"Job not in terminal status: {status}. Waiting.\")\n",
    "    while status not in [\"succeeded\", \"failed\"]:\n",
    "        time.sleep(2)\n",
    "        status = client.fine_tuning.jobs.retrieve(job_id).status\n",
    "        print(f\"Status: {status}\")\n",
    "else:\n",
    "    print(f\"Finetune job {job_id} finished with status: {status}\")\n",
    "print(\"Checking other finetune jobs in the subscription.\")\n",
    "result = client.fine_tuning.jobs.list()\n",
    "print(f\"Found {len(result.data)} finetune jobs.\")"
   ]
  },
  {
   "cell_type": "code",
   "execution_count": 26,
   "id": "c1eb9b9f-c320-4c42-b8be-071b317f8b53",
   "metadata": {},
   "outputs": [
    {
     "name": "stdout",
     "output_type": "stream",
     "text": [
      "ft:gpt-3.5-turbo-0125:personal::9Dzevxza\n"
     ]
    }
   ],
   "source": [
    "# Retrieve the finetuned model\n",
    "fine_tuned_model = result.data[0].fine_tuned_model\n",
    "print(fine_tuned_model)\n",
    "\n"
   ]
  },
  {
   "cell_type": "code",
   "execution_count": 31,
   "id": "6274e2d8-8ca4-4774-90f0-f3af4bb5f2c8",
   "metadata": {},
   "outputs": [],
   "source": [
    "import openai"
   ]
  },
  {
   "cell_type": "code",
   "execution_count": 36,
   "id": "eb4c5d0b-6397-4833-bb7c-5174f57c3432",
   "metadata": {},
   "outputs": [
    {
     "name": "stdout",
     "output_type": "stream",
     "text": [
      " Hello, I'm sorry to hear that you're not feeling well. Sinusitis can be a complication of a cold, as you've described. Sinusitis can be caused by inflammation and congestion of the sinus cavities, usually due to an infection. While some mild cases of sinusitis may improve on their own, more severe cases may require medical treatment. \n",
      "\n",
      "Considering the color of mucus and your symptoms, it is advisable to consult a doctor.\n",
      "They may prescribe antibiotics or other treatments to help clear up the infection and relieve your symptoms. In the meantime, you can use over-the-counter decongestants and pain relievers to help manage your symptoms. \n",
      "\n",
      "If you are experiencing severe symptoms such as high fever, severe headache, or difficulty breathing, it's essential to seek medical attention promptly.\n"
     ]
    }
   ],
   "source": [
    "new_prompt = \"\"\" Ive had a cold which started on Christmas eve but appeared to be getting better over the following week.\n",
    "However I now have what I think may be sinusitis - pain in the head, yellow mucus from the nose and stuffiness -squeaking from the sinuses. \n",
    "Will this go away on its own or should I see my GP?\"\"\"\n",
    "\n",
    "completion = client.chat.completions.create(\n",
    "    model=fine_tuned_model,\n",
    "    messages= [\n",
    "            {\"role\": \"system\", \"content\": DEFAULT_SYSTEM_PROMPT},\n",
    "            {\"role\": \"user\", \"content\": new_prompt},\n",
    "        ]\n",
    ")\n",
    "\n",
    "print(completion.choices[0].message.content)"
   ]
  },
  {
   "cell_type": "code",
   "execution_count": null,
   "id": "1d32ecb8-0792-4fa1-b8e2-5a74fc570ecf",
   "metadata": {},
   "outputs": [],
   "source": []
  },
  {
   "cell_type": "code",
   "execution_count": null,
   "id": "6a1c1655-32c8-46e9-b865-c8a5430bae6c",
   "metadata": {},
   "outputs": [],
   "source": []
  }
 ],
 "metadata": {
  "kernelspec": {
   "display_name": "Python 3 (ipykernel)",
   "language": "python",
   "name": "python3"
  },
  "language_info": {
   "codemirror_mode": {
    "name": "ipython",
    "version": 3
   },
   "file_extension": ".py",
   "mimetype": "text/x-python",
   "name": "python",
   "nbconvert_exporter": "python",
   "pygments_lexer": "ipython3",
   "version": "3.9.6"
  }
 },
 "nbformat": 4,
 "nbformat_minor": 5
}
