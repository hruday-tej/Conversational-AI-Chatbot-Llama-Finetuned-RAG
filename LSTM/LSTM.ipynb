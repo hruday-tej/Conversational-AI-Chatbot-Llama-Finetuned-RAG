{
 "cells": [
  {
   "cell_type": "code",
   "execution_count": null,
   "id": "0597d7e3-119c-476e-9f93-8182dec0dad6",
   "metadata": {
    "tags": []
   },
   "outputs": [],
   "source": [
    "import numpy as np\n",
    "import re\n",
    "from tensorflow.keras.layers import MultiHeadAttention, Embedding, LSTM, Dense, Bidirectional, Dropout, Input, TimeDistributed\n",
    "from tensorflow.keras.models import Model\n",
    "from tensorflow.keras.initializers import Constant\n",
    "from tensorflow.keras.optimizers import Adam\n",
    "from tensorflow.keras.preprocessing.text import Tokenizer\n",
    "from tensorflow.keras.preprocessing.sequence import pad_sequences\n",
    "\n",
    "def load_and_preprocess_data(file_path):\n",
    "    with open(file_path, 'r', encoding='utf-8') as file:\n",
    "        content = file.read()\n",
    "        pattern = re.compile(r'<Patient>(.*?)<Doctor>(.*?)\\n', re.DOTALL)\n",
    "        matches = pattern.findall(content)\n",
    "        patient_msgs, doctor_replies = zip(*matches)\n",
    "        \n",
    "        tokenizer = Tokenizer(num_words=10000, oov_token=\"<OOV>\")\n",
    "        tokenizer.fit_on_texts(patient_msgs + doctor_replies)\n",
    "        \n",
    "        patient_seqs = tokenizer.texts_to_sequences(patient_msgs)\n",
    "        doctor_seqs = tokenizer.texts_to_sequences(doctor_replies)\n",
    "        \n",
    "        max_sequence_length = 215\n",
    "        patient_seqs_padded = pad_sequences(patient_seqs, maxlen=max_sequence_length, padding='post', truncating='post')\n",
    "        doctor_seqs_padded = pad_sequences(doctor_seqs, maxlen=max_sequence_length, padding='post', truncating='post')\n",
    "        \n",
    "        return tokenizer, np.array(patient_seqs_padded), np.array(doctor_seqs_padded)\n",
    "\n",
    "def load_glove_embeddings(glove_file, embedding_dim):\n",
    "    embeddings_index = {}\n",
    "    with open(glove_file, 'r', encoding='utf-8') as f:\n",
    "        for line in f:\n",
    "            values = line.split()\n",
    "            word = values[0]\n",
    "            coefs = np.asarray(values[1:], dtype='float32')\n",
    "            embeddings_index[word] = coefs\n",
    "    return embeddings_index\n",
    "\n",
    "def create_embedding_matrix(word_index, embeddings_index, vocab_size, embedding_dim):\n",
    "    embedding_matrix = np.zeros((vocab_size, embedding_dim))\n",
    "    for word, i in word_index.items():\n",
    "        if i < vocab_size:\n",
    "            embedding_vector = embeddings_index.get(word)\n",
    "            if embedding_vector is not None:\n",
    "                embedding_matrix[i] = embedding_vector\n",
    "    return embedding_matrix\n",
    "\n",
    "def build_attention_model(vocab_size, max_length, embedding_dim, embedding_matrix):\n",
    "    inputs = Input(shape=(max_length,))\n",
    "    x = Embedding(input_dim=vocab_size, output_dim=embedding_dim,\n",
    "                  embeddings_initializer=Constant(embedding_matrix), trainable=True)(inputs)\n",
    "    x = Bidirectional(LSTM(128, return_sequences=True))(x)\n",
    "    x = Dropout(0.3)(x)\n",
    "    x = Bidirectional(LSTM(128, return_sequences=True))(x)\n",
    "    attention_layer = MultiHeadAttention(num_heads=4, key_dim=64)\n",
    "    attention_out = attention_layer(query=x, value=x)\n",
    "    context_vector = TimeDistributed(Dense(128))(attention_out)\n",
    "    output = Dense(vocab_size, activation='softmax')(context_vector)\n",
    "    model = Model(inputs=inputs, outputs=output)\n",
    "    \n",
    "    optimizer = Adam(learning_rate=0.001)\n",
    "    model.compile(optimizer=optimizer, loss='sparse_categorical_crossentropy', metrics=['accuracy'])\n",
    "    return model\n",
    "\n",
    "def generate_response(model, tokenizer, text, max_length):\n",
    "    sequence = tokenizer.texts_to_sequences([text])\n",
    "    padded = pad_sequences(sequence, maxlen=max_length, padding='post', truncating='post')\n",
    "    prediction = model.predict(padded)\n",
    "    predicted_sequence = np.argmax(prediction, axis=-1)[0]\n",
    "    response = ' '.join(tokenizer.index_word.get(i, '') for i in predicted_sequence if i > 0)\n",
    "    return response\n",
    "\n",
    "\n",
    "def main(train_file_path, test_file_path):\n",
    "    tokenizer, train_patient_input, train_doctor_output = load_and_preprocess_data(train_file_path)\n",
    "    _, test_patient_input, test_doctor_output = load_and_preprocess_data(test_file_path)\n",
    "\n",
    "    embedding_dim = 100\n",
    "    glove_file = 'Datasets/glove.6B.100d.txt'\n",
    "    embeddings_index = load_glove_embeddings(glove_file, embedding_dim)\n",
    "    embedding_matrix = create_embedding_matrix(tokenizer.word_index, embeddings_index, 10000, embedding_dim)\n",
    "\n",
    "    model = build_attention_model(10000, 215, embedding_dim, embedding_matrix)\n",
    "    model.fit(train_patient_input, train_doctor_output, epochs=150, batch_size=128, validation_data=(test_patient_input, test_doctor_output))\n",
    "    \n",
    "    loss, accuracy = model.evaluate(test_patient_input, test_doctor_output)\n",
    "    print(f\"Test Accuracy: {accuracy*100:.2f}%\")\n",
    "\n",
    "    new_patient_input = \"throat a bit sore and want to get a good immune booster, especially in light of the virus. please advise?\"\n",
    "    response = generate_response(model, tokenizer, new_patient_input, 215)\n",
    "    print(\"Response:\", response)\n",
    "\n",
    "if __name__ == \"__main__\":\n",
    "    main('Datasets/converted_meddialog_en.json', 'Datasets/converted_meddialog_test_en.json')\n"
   ]
  },
  {
   "cell_type": "code",
   "execution_count": null,
   "id": "df1e14ae-758b-42bf-9109-abda50fcf270",
   "metadata": {},
   "outputs": [],
   "source": [
    "import nltk\n",
    "\n",
    "nltk.download('wordnet')"
   ]
  },
  {
   "cell_type": "code",
   "execution_count": null,
   "id": "142ba99b-12cd-462b-9ac4-901a2140eba3",
   "metadata": {
    "tags": []
   },
   "outputs": [],
   "source": [
    "pip install rouge"
   ]
  },
  {
   "cell_type": "code",
   "execution_count": null,
   "id": "e1088500-d9fb-4eaa-ab90-a395f7e82f6c",
   "metadata": {},
   "outputs": [],
   "source": [
    "from nltk.translate.bleu_score import corpus_bleu, SmoothingFunction\n",
    "from nltk.translate.meteor_score import meteor_score\n",
    "from rouge import Rouge\n",
    "\n",
    "def calculate_bleu(reference_texts, candidate_texts):\n",
    "    reference_tokens = [[ref.split()] for ref in reference_texts]\n",
    "    candidate_tokens = [cand.split() for cand in candidate_texts]\n",
    "    chencherry = SmoothingFunction()\n",
    "    score = corpus_bleu(reference_tokens, candidate_tokens, smoothing_function=chencherry.method1)\n",
    "    return score\n",
    "\n",
    "def calculate_rouge(reference_texts, candidate_texts):\n",
    "    rouge = Rouge()\n",
    "    scores = rouge.get_scores(candidate_texts, reference_texts, avg=True)\n",
    "    return scores\n",
    "\n",
    "def calculate_meteor(reference_texts, candidate_texts):\n",
    "    scores = [meteor_score([ref.split()], cand.split()) for ref, cand in zip(reference_texts, candidate_texts)]\n",
    "    return sum(scores) / len(scores)\n",
    "\n",
    "reference_texts = [\"during this pandemic. throat pain can be from a strep throat infection (antibiotics needed), a cold or influenza or other virus, or from some other cause such as allergies or irritants. usually, a person sees the doctor (call first) if the sore throat is bothersome, recurrent, or doesn't go away quickly. covid-19 infections tend to have cough, whereas strep throat usually lacks cough but has more throat pain. \"]\n",
    "candidate_texts = [\"brief brief brief brief brief covid covid covid covid covid covid covid covid covid covid covid covid covid covid covid covid covid covid covid covid covid covid covid covid covid covid covid covid covid www www www www https https https https q q q q q q or or or or video video text\"]\n",
    "\n",
    "bleu_score = calculate_bleu(reference_texts, candidate_texts)\n",
    "rouge_scores = calculate_rouge(reference_texts, candidate_texts)\n",
    "meteor_score = calculate_meteor(reference_texts, candidate_texts)\n",
    "\n",
    "print(\"BLEU Score:\", bleu_score)\n",
    "print(\"ROUGE Scores:\", rouge_scores)\n",
    "print(\"METEOR Score:\", meteor_score)\n"
   ]
  },
  {
   "cell_type": "code",
   "execution_count": null,
   "id": "04094872-cc2d-412e-8da5-91819da9fe8a",
   "metadata": {
    "tags": []
   },
   "outputs": [],
   "source": [
    "pip install bert-score"
   ]
  },
  {
   "cell_type": "code",
   "execution_count": null,
   "id": "e3f3f30a-e33e-46af-8d6d-9c9a2860e285",
   "metadata": {
    "tags": []
   },
   "outputs": [],
   "source": [
    "from bert_score import score\n",
    "\n",
    "def compute_bert_score(predictions, references):\n",
    "    P, R, F1 = score(predictions, references, lang=\"en\", verbose=True)\n",
    "    return {\"Precision\": P.mean().item(), \"Recall\": R.mean().item(), \"F1-Score\": F1.mean().item()}\n",
    "\n",
    "# Example usage:\n",
    "predictions = [\"during this pandemic. throat pain can be from a strep throat infection (antibiotics needed), a cold or influenza or other virus, or from some other cause such as allergies or irritants. usually, a person sees the doctor (call first) if the sore throat is bothersome, recurrent, or doesn't go away quickly. covid-19 infections tend to have cough, whereas strep throat usually lacks cough but has more throat pain. \"]\n",
    "references = [\"brief brief brief brief brief covid covid covid covid covid covid covid covid covid covid covid covid covid covid covid covid covid covid covid covid covid covid covid covid covid covid covid covid covid www www www www https https https https q q q q q q or or or or video video text\"]\n",
    "\n",
    "bert_scores = compute_bert_score(predictions, references)\n",
    "print(bert_scores)\n"
   ]
  },
  {
   "cell_type": "code",
   "execution_count": null,
   "id": "64478343-5cb1-4154-9f6f-08c211fcebe5",
   "metadata": {},
   "outputs": [],
   "source": []
  }
 ],
 "metadata": {
  "kernelspec": {
   "display_name": "Tensorflow-2.14",
   "language": "python",
   "name": "tensorflow-2.14"
  },
  "language_info": {
   "codemirror_mode": {
    "name": "ipython",
    "version": 3
   },
   "file_extension": ".py",
   "mimetype": "text/x-python",
   "name": "python",
   "nbconvert_exporter": "python",
   "pygments_lexer": "ipython3",
   "version": "3.11.6"
  }
 },
 "nbformat": 4,
 "nbformat_minor": 5
}
